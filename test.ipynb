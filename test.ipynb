{
 "cells": [
  {
   "cell_type": "code",
   "execution_count": 1,
   "id": "92169d5f",
   "metadata": {},
   "outputs": [],
   "source": [
    "from bs4 import BeautifulSoup\n",
    "import requests\n",
    "import urllib.request\n",
    "import urllib.parse\n",
    "import redis\n",
    "import re\n",
    "import json\n"
   ]
  },
  {
   "cell_type": "code",
   "execution_count": 24,
   "metadata": {},
   "outputs": [],
   "source": [
    "prog_name = \"kyobobookparsor\"\n",
    "\n",
    "def readCacheOrUpdate( page_num ):\n",
    "\n",
    "    prefix = prog_name + ':ebook:category:it:page:'\n",
    "    key = prefix + str(page_num)\n",
    "\n",
    "    cache = rd.get(key)\n",
    "\n",
    "    if cache is None:\n",
    "        req = requests.get('https://autoever.dkyobobook.co.kr/content/contentList.ink?brcd=&sntnAuthCode=&contentAll=Y&cttsDvsnCode=001&ctgrId=24&orderByKey=publDate&selViewCnt=20&recordCount=20&pageIndex='+ str(page_num) , verify=False)\n",
    "\n",
    "        html = req.text\n",
    "        rd.set(key, html)\n",
    "\n",
    "        return html\n",
    "    else:\n",
    "        return rd.get(key)\n",
    "    "
   ]
  },
  {
   "source": [
    "rd = redis.StrictRedis(host='localhost', port=6379, db=0, charset=\"utf-8\", decode_responses=True)\n"
   ],
   "cell_type": "code",
   "metadata": {
    "tags": []
   },
   "execution_count": 3,
   "outputs": []
  },
  {
   "source": [
    "def parseAndStoreContent( html ):\n",
    "    \n",
    "    bs = BeautifulSoup(html)\n",
    "    titles = bs.select('ul.book_resultList li ul li.tit a')\n",
    "    texts = bs.select('ul.book_resultList li ul li.txt')\n",
    "    images = bs.select('ul.book_resultList li div.img img')\n",
    "       \n",
    "    print(len(titles))\n",
    "\n",
    "    for item_in_page in range(len(titles)):\n",
    "        title = titles[item_in_page].string\n",
    "        \n",
    "        # print(title)\n",
    "\n",
    "        text = texts[item_in_page].string\n",
    "        id = str(images[item_in_page]).split('/')[-3]\n",
    "        imgpath = 'https:' + images[item_in_page]['src']\n",
    "\n",
    "        key = prog_name + ':ebook:id:' + id\n",
    "\n",
    "        # print({\"title\" : title, \"desc\" : text, \"imgpath\" : imgpath})\n",
    "        # print(json.dumps({\"title\" : title, \"desc\" : text, \"imgpath\" : imgpath}, ensure_ascii=False))\n",
    "\n",
    "        rd.set(key, json.dumps({\"title\" : title, \"desc\" : text, \"imgpath\" : imgpath}, ensure_ascii=False))\n",
    "\n",
    "\n"
   ],
   "cell_type": "code",
   "metadata": {
    "tags": []
   },
   "execution_count": 57,
   "outputs": []
  },
  {
   "cell_type": "code",
   "execution_count": 65,
   "metadata": {
    "tags": []
   },
   "outputs": [
    {
     "output_type": "execute_result",
     "data": {
      "text/plain": [
       "'[무료 특별판] 3분 엑셀'"
      ]
     },
     "metadata": {},
     "execution_count": 65
    }
   ],
   "source": [
    "# parseAndStoreContent(readCacheOrUpdate(1))\n",
    "# rd.keys(prog_name + \":ebook:category:it:*\")\n",
    "# rd.keys(prog_name + \":ebook:id:*\")\n",
    "content = json.loads(rd.get('kyobobookparsor:ebook:id:480D210307680'))\n",
    "content['title']"
   ]
  }
 ],
 "metadata": {
  "kernelspec": {
   "name": "python3",
   "display_name": "Python 3.8.8 64-bit ('base': conda)"
  },
  "language_info": {
   "codemirror_mode": {
    "name": "ipython",
    "version": 3
   },
   "file_extension": ".py",
   "mimetype": "text/x-python",
   "name": "python",
   "nbconvert_exporter": "python",
   "pygments_lexer": "ipython3",
   "version": "3.8.8"
  },
  "interpreter": {
   "hash": "b3ba2566441a7c06988d0923437866b63cedc61552a5af99d1f4fb67d367b25f"
  }
 },
 "nbformat": 4,
 "nbformat_minor": 5
}