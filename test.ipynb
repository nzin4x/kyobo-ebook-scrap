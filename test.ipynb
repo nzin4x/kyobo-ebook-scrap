{
 "cells": [
  {
   "cell_type": "code",
   "execution_count": 2,
   "id": "1e55d989",
   "metadata": {},
   "outputs": [],
   "source": [
    "a = 3"
   ]
  },
  {
   "cell_type": "code",
   "execution_count": 3,
   "id": "014ff7c7",
   "metadata": {},
   "outputs": [],
   "source": [
    "b = 4"
   ]
  },
  {
   "cell_type": "code",
   "execution_count": 4,
   "id": "cb182144",
   "metadata": {},
   "outputs": [
    {
     "data": {
      "text/plain": [
       "7"
      ]
     },
     "execution_count": 4,
     "metadata": {},
     "output_type": "execute_result"
    }
   ],
   "source": [
    "a+b"
   ]
  },
  {
   "cell_type": "code",
   "execution_count": 25,
   "id": "92169d5f",
   "metadata": {},
   "outputs": [],
   "source": [
    "from bs4 import BeautifulSoup\n",
    "import requests\n",
    "import urllib.request\n",
    "import urllib.parse\n",
    "import redis\n"
   ]
  },
  {
   "cell_type": "code",
   "execution_count": 52,
   "metadata": {
    "tags": []
   },
   "outputs": [],
   "source": [
    "rd = redis.StrictRedis(host='localhost', port=6379, db=0, charset=\"utf-8\", decode_responses=True)\n",
    "\n",
    "def readCacheOrUpdate( page_num ):\n",
    "\n",
    "    prefix = 'html:kyobo:ebook:category:it:'\n",
    "    key = prefix + str(page_num)\n",
    "\n",
    "    cache = rd.get(key)\n",
    "\n",
    "    if cache is None:\n",
    "        req = requests.get('https://autoever.dkyobobook.co.kr/content/contentList.ink?brcd=&sntnAuthCode=&contentAll=Y&cttsDvsnCode=001&ctgrId=24&orderByKey=publDate&selViewCnt=20&pageIndex='+ str(page_num) +'&recordCount=20', verify=False)\n",
    "\n",
    "        html = req.text\n",
    "        rd.set(key, html)\n",
    "    else:\n",
    "        return rd.get(key)\n",
    "    \n",
    "    return cache\n",
    "\n",
    "\n",
    "# soup = BeautifulSoup(html, 'html.parser')\n",
    "# print(soup.prettify())\n"
   ]
  },
  {
   "cell_type": "code",
   "execution_count": 53,
   "metadata": {},
   "outputs": [
    {
     "output_type": "stream",
     "name": "stderr",
     "text": [
      "C:\\ProgramData\\Anaconda3\\lib\\site-packages\\urllib3\\connectionpool.py:1013: InsecureRequestWarning: Unverified HTTPS request is being made to host 'autoever.dkyobobook.co.kr'. Adding certificate verification is strongly advised. See: https://urllib3.readthedocs.io/en/latest/advanced-usage.html#ssl-warnings\n",
      "  warnings.warn(\n",
      "None\n"
     ]
    }
   ],
   "source": [
    "html = readCacheOrUpdate(2)\n",
    "\n",
    "print(html)"
   ]
  },
  {
   "cell_type": "code",
   "execution_count": 36,
   "metadata": {},
   "outputs": [
    {
     "output_type": "execute_result",
     "data": {
      "text/plain": [
       "\\t\\t\\t\\t\\t\\t\\t\\t\\t\\t\\r\\n\\t\\t\\t\\t\\t\\t\\t\\t\\t\\t\\t\\t\\t\\t\\t\\t\\t\\t\\t\\t\\t\\t\\t\\t\\t\\t\\t\\t\\t\\t\\t\\t\\t\\t\\t\\t\\t\\t\\r\\n\\t\\t\\t\\t\\t\\t\\t\\t\\t\\t\\t\\t\\t\\t\\t\\t\\t\\t\\r\\n\\t\\t\\t\\t\\t\\t\\t\\t\\t\\t\\t\\t\\t\\t\\t\\t\\r\\n\\t\\t\\t\\t\\t\\t\\t\\t\\t\\t\\t\\t\\t\\t\\r\\n\\t\\t\\t\\t\\t\\t\\t\\t\\t\\t\\t\\t\\t\\t\\t\\t\\t\\t\\t\\t\\t\\t\\t\\t\\t\\r\\n\\t\\t\\t\\t\\t\\t\\t\\t\\t\\t\\t\\r\\n\\t\\t\\t\\t\\t\\t\\t\\t\\t\\t<!-- 찜하기 -->\\r\\n\\t\\t\\t\\t\\t\\t\\t\\t\\t\\t\\r\\n\\t\\t\\t\\t\\t\\t\\t\\t\\t\\t\\t\\t<span><input type=\"button\" name=\"dibsBtn\" value=\"찜\" class=\"btn btn_mL btn_sel\" onClick=\"javascript:contentList.fnDibs(this, \\'4801162244280\\',\\'N\\');\"/></span>\\t\\t\\t\\t\\t\\t\\t\\t\\t\\t\\t\\r\\n\\t\\t\\t\\t\\t\\t\\t\\t\\t\\t\\t\\t\\t\\r\\n\\t\\t\\t\\t\\t\\t\\t\\t\\t</div>\\r\\n\\t\\t\\t\\t\\t\\t\\t\\t</li>\\t\\t\\t\\t\\t\\t\\t\\t\\r\\n\\t\\t\\t\\t\\t\\t\\t\\t\\t\\t\\t\\t\\t\\t\\t\\t\\t\\t\\t\\t\\t\\t\\r\\n\\t\\t\\t\\t\\t\\t\\t\\t<li>\\t\\t\\t\\t\\t\\t\\t\\t\\t\\r\\n\\t\\t\\t\\t\\t\\t\\t\\t\\t<div class=\"img\">\\r\\n\\t\\t\\t\\t\\t\\t\\t\\t\\t\\t\\t\\t\\t\\t\\t\\t\\t\\t\\r\\n\\t\\t\\t\\t\\t\\t\\t\\t\\t\\t<a href=\"/content/contentView.ink\" title=\"[무료특별판]소문난 명강의 김상형의 SQL 정복 | 현대오토에버\" class=\"scale\" onclick=\"javascript:contentList.fnContentClick(this, \\'001\\', \\'480D210512200\\', \\'2403\\', \\'\\', \\'N\\', \\'1\\'); event.preventDefault();\">\\r\\n\\t\\t\\t\\t\\t\\t\\t\\t\\t\\t<img src=\"//dcontent.dkyobobook.co.kr/library/001/DRMContent/fed5/ebook/200/480D210512200/L480D210512200.jpg\" alt=\"[무료특별판]소문난 명강의 김상형의 SQL 정복\" />\\r\\n\\t\\t\\t\\t\\t\\t\\t\\t\\t\\t</a>\\r\\n\\t\\t\\t\\t\\t\\t\\t\\t\\t\\t<p><a href=\"#\" class=\"btn btn_s btn_line\" onClick=\"javascript:contentList.fnContentPreview(\\'N\\',\\'001\\', \\'2403\\' ,\\'480D210512200\\',\\'1\\', \\'\\'); event.preventDefault();\" target=\"_blank\" title=\"새 창으로 열림\">미리보기</a></p>\\t\\r\\n\\t\\t\\t\\t\\t\\t\\t\\t\\t\\t\\t\\t\\t\\t\\t\\t\\t\\t\\t\\t\\r\\n\\t\\t\\t\\t\\t\\t\\t\\t\\t</div>\\r\\n\\r\\n\\t\\t\\t\\t\\t\\t\\t\\t\\t<div>\\r\\n\\t\\t\\t\\t\\t\\t\\t\\t\\t\\t<p>\\r\\n\\t\\t\\t\\t\\t\\t\\t\\t\\t\\t\\t\\r\\n\\t\\t\\t\\t\\t\\t\\t\\t\\t\\t\\t\\t\\r\\n\\t\\t\\t\\t\\t\\t\\t\\t\\t\\t\\t\\t<span class=\"store\">교보문고</span>\\r\\n\\t\\t\\t\\t\\t\\t\\t\\t\\t\\t\\t\\t\\r\\n\\t\\t\\t\\t\\t\\t\\t\\t\\t\\t\\t\\r\\n\\t\\t\\t\\t\\t\\t\\t\\t\\t\\t\\t\\r\\n\\t\\t\\t\\t\\t\\t\\t\\t\\t\\t</p>\\r\\n\\t\\t\\t\\t\\t\\t\\t\\t\\t\\t\\r\\n\\t\\t\\t\\t\\t\\t\\t\\t\\t\\t\\t<ul>\\r\\n\\t\\t\\t\\t\\t\\t\\t\\t\\t\\t\\t\\t<li class=\"tit\"><a href=\"/content/contentView.ink\" title=\"[무료특별판]소문난 명강의 김상형의 SQL 정복 | 현대오토에버\" onClick=\"javascript:contentList.fnContentClick(this, \\'001\\', \\'480D210512200\\', \\'2403\\', \\'\\', \\'N\\'); event.preventDefault();\">[무료특별판]소문난 명강의 김상형의 SQL 정복</a></li>\\r\\n\\t\\t\\t\\t\\t\\t\\t\\t\\t\\t\\t\\t<li class=\"writer\">김상형<span>한빛미디어</span>2021-05-11</li>\\r\\n\\t\\t\\t\\t\\t\\t\\t\\t\\t\\t\\t\\t<li class=\"txt\">\\nDBMS에 제약 없이 SQL을 활용한다!\\n\\n핵심 원리를 알려주는 SQL 바이블 \\n\\n \\n\\nDBMS 제품이나 개발툴이 아닌 SQL 언어 그 자체를 배우는 바이블 도서다. 특정 DBMS에 종속적인 사용법보다는 표준화된 데이터 관리 문법인 SQL에 집중하였다. 모든 데이터베이스 개발툴이 SQL을 지원하므로 언어의 문법만 마스터하면 툴은 얼마든지 익숙하게 다룰 수 있기 때문이다. \\n\\n \\n\\n먼저 SQL의 개념을 익히고 큰 틀을 잡은 후에는 Oracle, MSSQL, MariaDB를 비교하며 SQL의 원리와 특징을 정석대로 익힐 수 있도록 구성했다. 또한 100여 개의 실습 문제를 직접 해결해보고 풀이를 확인하면서 최적의 시간 내에 SQL을 정복할 수 있다!\\n\\n \\n\\n \\n\\n추천사\\n\\n \\n\\n데이터베이스의 구조와 개념 설명에 충실한 입문서이며, 순서대로 읽고 실습하면서 스스로 데이터 관리의 원리를 익힐 수 있는 친절한 자습서입니다.\\n\\n_ 이승우 Jness 기술고문\\n\\n \\n\\n오라클, SQL Server, MariaDB를 동시에 다루며 세부 문법을 상세히 비교함으로써 모든 DBMS를 아우르는 호환성 높은 표준 쿼리 작성법을 알려줍니다.\\n\\n_ 오광섭 DaulSoft 교육사업팀장\\n\\n \\n\\n데이터 관리의 탄탄한 기초를 쌓아주며, 여러 종류의 DBMS를 바꿔가며 활용하는 실무 개발자를 위한 훌륭한 문법 레퍼런스입니다.\\n\\n_ 권성직 GTONE 솔루션 사업부 CTO\\n\\n\\n이 책의 특징\\n\\n3가지 DBMS 기반 실습 환경: Oracle, MSSQL, MariaDB 기반 실습 환경을 모두 체험할 수 있습니다.  \\n30가지 실습 예제 제공: 30가지 다양한 실무형 실습 예제를 통해 현장감을 익힙니다. \\n100여 개 연습문제 제공: 100여 개의 연습문제/해설을 제공하여 학습 내용을 독자 스스로 확인 가능하도록 구성했습니다.</li>\\r\\n\\t\\t\\t\\t\\t\\t\\t\\t\\t\\t\\t</ul>\\r\\n\\t\\t\\t\\t\\t\\t\\t\\t\\t\\t\\t\\r\\n\\t\\t\\t\\t\\t\\t\\t\\t\\t\\t\\t\\t\\t\\r\\n\\t\\t\\t\\t\\t\\t\\t\\t\\t\\t\\t\\t\\t\\t\\t\\r\\n\\t\\t\\t\\t\\t\\t\\t\\t\\t\\t\\t\\t\\t\\t\\r\\n\\t\\t\\t\\t\\t\\t\\t\\t\\t\\t\\t\\t\\r\\n\\t\\t\\t\\t\\t\\t\\t\\t\\t\\t\\t\\r\\n\\t\\t\\t\\t\\t\\t\\t\\t\\t</div>\\r\\n\\t\\t\\t\\t\\t\\t\\t\\t\\t<div class=\"btn_area\">\\r\\n\\t\\t\\t\\t\\t\\t\\t\\t\\t\\t\\r\\n\\t\\t\\t\\t\\t\\t\\t\\t\\t\\t\\t\\t\\r\\n\\t\\t\\t\\t\\t\\t\\t\\t\\t\\t\\t\\t\\t\\t\\r\\n\\t\\t\\t\\t\\t\\t\\t\\t\\t\\t\\t\\t\\t\\t\\t\\r\\n\\t\\t\\t\\t\\t\\t\\t\\t\\t\\t\\t\\r\\n\\t\\t\\t\\t\\t\\t\\t\\t\\t\\t\\r\\n\\t\\t\\t\\t\\t\\t\\t\\t\\t\\t\\t\\t\\t\\t\\t\\t\\t\\t\\t\\t\\t\\t\\t\\t\\t\\t\\r\\n\\t\\t\\t\\t\\t\\t\\t\\t\\t\\t\\t\\t\\t\\t\\t\\t\\t\\t\\t\\t\\t\\t\\t\\t\\t\\t\\t\\t\\t\\t\\r\\n\\t\\t\\t\\t\\t\\t\\t\\t\\t\\t\\t\\t\\t\\t\\t\\t\\t\\t\\t\\t\\t\\t\\t\\t\\t\\t\\t\\t\\t\\t\\t\\t\\r\\n\\t\\t\\t\\t\\t\\t\\t\\t\\t\\t\\t\\t\\t\\t\\t\\t\\t\\r\\n\\t\\t\\t\\t\\t\\t\\t\\t\\t\\t\\t\\t\\t\\t\\t\\t\\t\\t\\t\\r\\n\\t\\t\\t\\t\\t\\t\\t\\t\\t\\t\\t\\t\\t\\t\\t\\t\\t\\t\\t\\t\\r\\n\\t\\t\\t\\t\\t\\t\\t\\t\\t\\t\\t\\t\\t\\t\\t\\t\\t\\t\\t\\t\\t<span><input type=\"button\" name=\"brwBtn\" value=\"대출\" class=\"btn btn_mL btn_blue2\" onClick=\"javascript:contentList.fnContentBorrow(\\'N\\', \\'\\', \\'24073\\', \\'\\', \\'480D210512200\\', \\'001\\', \\'[무료특별판]소문난 명강의 김상형의 SQL 정복\\',\\'1\\', \\'KB\\',\\'1\\', \\'\\', event);\"/></span> \\t\\t\\t\\t\\t\\t\\t\\t\\t\\t\\t\\t\\t\\t\\t\\t\\t\\t\\t\\t\\r\\n\\t\\t\\t\\t\\t\\t\\t\\t\\t\\t\\t\\t\\t\\t\\t\\t\\t\\t\\t\\t\\t\\t\\t\\t\\t\\t\\t\\t\\t\\t\\t\\t\\t\\t\\t\\t\\t\\t\\r\\n\\t\\t\\t\\t\\t\\t\\t\\t\\t\\t\\t\\t\\t\\t\\t\\t\\t\\t\\r\\n\\t\\t\\t\\t\\t\\t\\t\\t\\t\\t\\t\\t\\t\\t\\t\\t\\r\\n\\t\\t\\t\\t\\t\\t\\t\\t\\t\\t\\t\\t\\t\\t\\r\\n\\t\\t\\t\\t\\t\\t\\t\\t\\t\\t\\t\\t\\t\\t\\t\\t\\t\\t\\t\\t\\t\\t\\t\\t\\t\\r\\n\\t\\t\\t\\t\\t\\t\\t\\t\\t\\t\\t\\r\\n\\t\\t\\t\\t\\t\\t\\t\\t\\t\\t<!-- 찜하기 -->\\r\\n\\t\\t\\t\\t\\t\\t\\t\\t\\t\\t\\r\\n\\t\\t\\t\\t\\t\\t\\t\\t\\t\\t\\t\\t<span><input type=\"button\" name=\"dibsBtn\" value=\"찜\" class=\"btn btn_mL btn_sel\" onClick=\"javascript:contentList.fnDibs(this, \\'480D210512200\\',\\'N\\');\"/></span>\\t\\t\\t\\t\\t\\t\\t\\t\\t\\t\\t\\r\\n\\t\\t\\t\\t\\t\\t\\t\\t\\t\\t\\t\\t\\t\\r\\n\\t\\t\\t\\t\\t\\t\\t\\t\\t</div>\\r\\n\\t\\t\\t\\t\\t\\t\\t\\t</li>\\t\\t\\t\\t\\t\\t\\t\\t\\r\\n\\t\\t\\t\\t\\t\\t\\t\\t\\t\\t\\t\\t\\t\\t\\t\\t\\t\\t\\t\\t\\t\\t\\r\\n\\t\\t\\t\\t\\t\\t\\t\\t<li>\\t\\t\\t\\t\\t\\t\\t\\t\\t\\r\\n\\t\\t\\t\\t\\t\\t\\t\\t\\t<div class=\"img\">\\r\\n\\t\\t\\t\\t\\t\\t\\t\\t\\t\\t\\t\\t\\t\\t\\t\\t\\t\\t\\r\\n\\t\\t\\t\\t\\t\\t\\t\\t\\t\\t<a href=\"/content/contentView.ink\" title=\"고성능 파이썬 | 현대오토에버\" class=\"scale\" onclick=\"javascript:contentList.fnContentClick(this, \\'001\\', \\'4801162244211\\', \\'2411\\', \\'\\', \\'N\\', \\'1\\'); event.preventDefault();\">\\r\\n\\t\\t\\t\\t\\t\\t\\t\\t\\t\\t<img src=\"//dcontent.dkyobobook.co.kr/library/001/DRMContent/fed5/ebook/211/4801162244211/L4801162244211.jpg\" alt=\"고성능 파이썬\" />\\r\\n\\t\\t\\t\\t\\t\\t\\t\\t\\t\\t</a>\\r\\n\\t\\t\\t\\t\\t\\t\\t\\t\\t\\t<p><a href=\"#\" class=\"btn btn_s btn_line\" onClick=\"javascript:contentList.fnContentPreview(\\'N\\',\\'001\\', \\'2411\\' ,\\'4801162244211\\',\\'1\\', \\'\\'); event.preventDefault();\" target=\"_blank\" title=\"새 창으로 열림\">미리보기</a></p>\\t\\r\\n\\t\\t\\t\\t\\t\\t\\t\\t\\t\\t\\t\\t\\t\\t\\t\\t\\t\\t\\t\\t\\r\\n\\t\\t\\t\\t\\t\\t\\t\\t\\t</div>\\r\\n\\r\\n\\t\\t\\t\\t\\t\\t\\t\\t\\t<div>\\r\\n\\t\\t\\t\\t\\t\\t\\t\\t\\t\\t<p>\\r\\n\\t\\t\\t\\t\\t\\t\\t\\t\\t\\t\\t\\r\\n\\t\\t\\t\\t\\t\\t\\t\\t\\t\\t\\t\\t\\r\\n\\t\\t\\t\\t\\t\\t\\t\\t\\t\\t\\t\\t<span class=\"store\">교보문고</span>\\r\\n\\t\\t\\t\\t\\t\\t\\t\\t\\t\\t\\t\\t\\r\\n\\t\\t\\t\\t\\t\\t\\t\\t\\t\\t\\t\\r\\n\\t\\t\\t\\t\\t\\t\\t\\t\\t\\t\\t\\r\\n\\t\\t\\t\\t\\t\\t\\t\\t\\t\\t</p>\\r\\n\\t\\t\\t\\t\\t\\t\\t\\t\\t\\t\\r\\n\\t\\t\\t\\t\\t\\t\\t\\t\\t\\t\\t<ul>\\r\\n\\t\\t\\t\\t\\t\\t\\t\\t\\t\\t\\t\\t<li class=\"tit\"><a href=\"/content/contentView.ink\" title=\"고성능 파이썬 | 현대오토에버\" onClick=\"javascript:contentList.fnContentClick(this, \\'001\\', \\'4801162244211\\', \\'2411\\', \\'\\', \\'N\\'); event.preventDefault();\">고성능 파이썬</a></li>\\r\\n\\t\\t\\t\\t\\t\\t\\t\\t\\t\\t\\t\\t<li class=\"writer\">미샤 고렐릭<span>한빛미디어</span>2021-05-10</li>\\r\\n\\t\\t\\t\\t\\t\\t\\t\\t\\t\\t\\t\\t<li class=\"txt\">\\n파이썬의 성능을 제대로 올려주는 코드 작성법\\n\\n파이썬 코드가 제대로 동작하더라도 더 빠르게 실행되도록 해야 할 때가 있다. 이 책은 파이썬 3에 맞춰 내용을 보강한 개정판으로, 처리할 데이터 용량이 큰 프로그램의 병목현상을 찾고, 이를 해결해 성능을 향상하는 방법을 알려준다. 프로그램 설계 시 여러 선택 사항의 기반이 되는 자세한 설명 덕분에 파이썬 구현을 더 깊이 이해할 수 있다. 멀티 코어 아키텍처나 클러스터를 어떻게 활용할 수 있을까? 신뢰성을 잃지 않으면서 규모를 쉽게 확장하고 축소할 수 있는 시스템을 어떻게 구축할 수 있을까? 경험이 많은 파이썬 프로그래머라면 이 책을 통해 다양한 문제에 대한 구체적인 해결 방법을 배울 수 있고 소셜 미디어 분석, 프로덕션 수준의 머신러닝 분야에서 여러 기업이 겪은 무용담도 엿볼 수 있다.</li>\\r\\n\\t\\t\\t\\t\\t\\t\\t\\t\\t\\t\\t</ul>\\r\\n\\t\\t\\t\\t\\t\\t\\t\\t\\t\\t\\t\\r\\n\\t\\t\\t\\t\\t\\t\\t\\t\\t\\t\\t\\t\\t\\r\\n\\t\\t\\t\\t\\t\\t\\t\\t\\t\\t\\t\\t\\t\\t\\t\\r\\n\\t\\t\\t\\t\\t\\t\\t\\t\\t\\t\\t\\t\\t\\t\\r\\n\\t\\t\\t\\t\\t\\t\\t\\t\\t\\t\\t\\t\\r\\n\\t\\t\\t\\t\\t\\t\\t\\t\\t\\t\\t\\r\\n\\t\\t\\t\\t\\t\\t\\t\\t\\t</div>\\r\\n\\t\\t\\t\\t\\t\\t\\t\\t\\t<div class=\"btn_area\">\\r\\n\\t\\t\\t\\t\\t\\t\\t\\t\\t\\t\\r\\n\\t\\t\\t\\t\\t\\t\\t\\t\\t\\t\\t\\t\\r\\n\\t\\t\\t\\t\\t\\t\\t\\t\\t\\t\\t\\t\\t\\t\\r\\n\\t\\t\\t\\t\\t\\t\\t\\t\\t\\t\\t\\t\\t\\t\\t\\r\\n\\t\\t\\t\\t\\t\\t\\t\\t\\t\\t\\t\\r\\n\\t\\t\\t\\t\\t\\t\\t\\t\\t\\t\\r\\n\\t\\t\\t\\t\\t\\t\\t\\t\\t\\t\\t\\t\\t\\t\\t\\t\\t\\t\\t\\t\\t\\t\\t\\t\\t\\t\\r\\n\\t\\t\\t\\t\\t\\t\\t\\t\\t\\t\\t\\t\\t\\t\\t\\t\\t\\t\\t\\t\\t\\t\\t\\t\\t\\t\\t\\t\\t\\t\\r\\n\\t\\t\\t\\t\\t\\t\\t\\t\\t\\t\\t\\t\\t\\t\\t\\t\\t\\t\\t\\t\\t\\t\\t\\t\\t\\t\\t\\t\\t\\t\\t\\t\\r\\n\\t\\t\\t\\t\\t\\t\\t\\t\\t\\t\\t\\t\\t\\t\\t\\t\\t\\r\\n\\t\\t\\t\\t\\t\\t\\t\\t\\t\\t\\t\\t\\t\\t\\t\\t\\t\\t\\t\\r\\n\\t\\t\\t\\t\\t\\t\\t\\t\\t\\t\\t\\t\\t\\t\\t\\t\\t\\t\\t\\t\\r\\n\\t\\t\\t\\t\\t\\t\\t\\t\\t\\t\\t\\t\\t\\t\\t\\t\\t\\t\\t\\t\\t<span><input type=\"button\" name=\"brwBtn\" value=\"대출\" class=\"btn btn_mL btn_blue2\" onClick=\"javascript:contentList.fnContentBorrow(\\'N\\', \\'\\', \\'24073\\', \\'\\', \\'4801162244211\\', \\'001\\', \\'고성능 파이썬\\',\\'1\\', \\'KB\\',\\'1\\', \\'\\', event);\"/></span> \\t\\t\\t\\t\\t\\t\\t\\t\\t\\t\\t\\t\\t\\t\\t\\t\\t\\t\\t\\t\\r\\n\\t\\t\\t\\t\\t\\t\\t\\t\\t\\t\\t\\t\\t\\t\\t\\t\\t\\t\\t\\t\\t\\t\\t\\t\\t\\t\\t\\t\\t\\t\\t\\t\\t\\t\\t\\t\\t\\t\\r\\n\\t\\t\\t\\t\\t\\t\\t\\t\\t\\t\\t\\t\\t\\t\\t\\t\\t\\t\\r\\n\\t\\t\\t\\t\\t\\t\\t\\t\\t\\t\\t\\t\\t\\t\\t\\t\\r\\n\\t\\t\\t\\t\\t\\t\\t\\t\\t\\t\\t\\t\\t\\t\\r\\n\\t\\t\\t\\t\\t\\t\\t\\t\\t\\t\\t\\t\\t\\t\\t\\t\\t\\t\\t\\t\\t\\t\\t\\t\\t\\r\\n\\t\\t\\t\\t\\t\\t\\t\\t\\t\\t\\t\\r\\n\\t\\t\\t\\t\\t\\t\\t\\t\\t\\t<!-- 찜하기 -->\\r\\n\\t\\t\\t\\t\\t\\t\\t\\t\\t\\t\\r\\n\\t\\t\\t\\t\\t\\t\\t\\t\\t\\t\\t\\t<span><input type=\"button\" name=\"dibsBtn\" value=\"찜\" class=\"btn btn_mL btn_sel\" onClick=\"javascript:contentList.fnDibs(this, \\'4801162244211\\',\\'N\\');\"/></span>\\t\\t\\t\\t\\t\\t\\t\\t\\t\\t\\t\\r\\n\\t\\t\\t\\t\\t\\t\\t\\t\\t\\t\\t\\t\\t\\r\\n\\t\\t\\t\\t\\t\\t\\t\\t\\t</div>\\r\\n\\t\\t\\t\\t\\t\\t\\t\\t</li>\\t\\t\\t\\t\\t\\t\\t\\t\\r\\n\\t\\t\\t\\t\\t\\t\\t\\t\\t\\t\\t\\t\\t\\t\\t\\t\\t\\t\\t\\t\\t\\t\\r\\n\\t\\t\\t\\t\\t\\t\\t\\t<li>\\t\\t\\t\\t\\t\\t\\t\\t\\t\\r\\n\\t\\t\\t\\t\\t\\t\\t\\t\\t<div class=\"img\">\\r\\n\\t\\t\\t\\t\\t\\t\\t\\t\\t\\t\\t\\t\\t\\t\\t\\t\\t\\t\\r\\n\\t\\t\\t\\t\\t\\t\\t\\t\\t\\t<a href=\"/content/contentView.ink\" title=\"데이터가 뛰어노는 AI 놀이터, 캐글 | 현대오토에버\" class=\"scale\" onclick=\"javascript:contentList.fnContentClick(this, \\'001\\', \\'4801162244235\\', \\'2403\\', \\'\\', \\'N\\', \\'1\\'); event.preventDefault();\">\\r\\n\\t\\t\\t\\t\\t\\t\\t\\t\\t\\t<img src=\"//dcontent.dkyobobook.co.kr/library/001/DRMContent/fed5/ebook/235/4801162244235/L4801162244235.jpg\" alt=\"데이터가 뛰어노는 AI 놀이터, 캐글\" />\\r\\n\\t\\t\\t\\t\\t\\t\\t\\t\\t\\t</a>\\r\\n\\t\\t\\t\\t\\t\\t\\t\\t\\t\\t<p><a href=\"#\" class=\"btn btn_s btn_line\" onClick=\"javascript:contentList.fnContentPreview(\\'N\\',\\'001\\', \\'2403\\' ,\\'4801162244235\\',\\'1\\', \\'\\'); event.preventDefault();\" target=\"_blank\" title=\"새 창으로 열림\">미리보기</a></p>\\t\\r\\n\\t\\t\\t\\t\\t\\t\\t\\t\\t\\t\\t\\t\\t\\t\\t\\t\\t\\t\\t\\t\\r\\n\\t\\t\\t\\t\\t\\t\\t\\t\\t</div>\\r\\n\\r\\n\\t\\t\\t\\t\\t\\t\\t\\t\\t<div>\\r\\n\\t\\t\\t\\t\\t\\t\\t\\t\\t\\t<p>\\r\\n\\t\\t\\t\\t\\t\\t\\t\\t\\t\\t\\t\\r\\n\\t\\t\\t\\t\\t\\t\\t\\t\\t\\t\\t\\t\\r\\n\\t\\t\\t\\t\\t\\t\\t\\t\\t\\t\\t\\t<span class=\"store\">교보문고</span>\\r\\n\\t\\t\\t\\t\\t\\t\\t\\t\\t\\t\\t\\t\\r\\n\\t\\t\\t\\t\\t\\t\\t\\t\\t\\t\\t\\r\\n\\t\\t\\t\\t\\t\\t\\t\\t\\t\\t\\t\\r\\n\\t\\t\\t\\t\\t\\t\\t\\t\\t\\t</p>\\r\\n\\t\\t\\t\\t\\t\\t\\t\\t\\t\\t\\r\\n\\t\\t\\t\\t\\t\\t\\t\\t\\t\\t\\t<ul>\\r\\n\\t\\t\\t\\t\\t\\t\\t\\t\\t\\t\\t\\t<li class=\"tit\"><a href=\"/content/contentView.ink\" title=\"데이터가 뛰어노는 AI 놀이터, 캐글 | 현대오토에버\" onClick=\"javascript:contentList.fnContentClick(this, \\'001\\', \\'4801162244235\\', \\'2403\\', \\'\\', \\'N\\'); event.preventDefault();\">데이터가 뛰어노는 AI 놀이터, 캐글</a></li>\\r\\n\\t\\t\\t\\t\\t\\t\\t\\t\\t\\t\\t\\t<li class=\"writer\">가도와키 다이스케<span>한빛미디어</span>2021-05-10</li>\\r\\n\\t\\t\\t\\t\\t\\t\\t\\t\\t\\t\\t\\t<li class=\"txt\">\\n데이터 분석 무한 경쟁 ‘캐글’에서 살아남기 위한 비결\\n\\n세계 최대 규모 데이터 분석 경진 대회 플랫폼인 캐글에서는 일반적이지 않은 데이터 처리 기법이 많이 활용된다. 이를 이해하고 체득하여 활용하는 것은 대회뿐만 아니라 데이터 분석 실무에서도 모델 정확도를 높이는 데 매우 유용하다. 특징(feature)을 만드는 방법, 앙상블, 평가지표, 사이킷런, xgboost 등 기존에는 잘 다루지 않았던 기법과 사례를 이 책 한 권에 정리했다. 경진 대회에 참여할 계획이 있거나, 캐글을 경험해봤지만 더 높은 상위 랭킹에 도전하고 싶다면 지금 바로 읽어보기를 권한다.</li>\\r\\n\\t\\t\\t\\t\\t\\t\\t\\t\\t\\t\\t</ul>\\r\\n\\t\\t\\t\\t\\t\\t\\t\\t\\t\\t\\t\\r\\n\\t\\t\\t\\t\\t\\t\\t\\t\\t\\t\\t\\t\\t\\r\\n\\t\\t\\t\\t\\t\\t\\t\\t\\t\\t\\t\\t\\t\\t\\t\\r\\n\\t\\t\\t\\t\\t\\t\\t\\t\\t\\t\\t\\t\\t\\t\\r\\n\\t\\t\\t\\t\\t\\t\\t\\t\\t\\t\\t\\t\\r\\n\\t\\t\\t\\t\\t\\t\\t\\t\\t\\t\\t\\r\\n\\t\\t\\t\\t\\t\\t\\t\\t\\t</div>\\r\\n\\t\\t\\t\\t\\t\\t\\t\\t\\t<div class=\"btn_area\">\\r\\n\\t\\t\\t\\t\\t\\t\\t\\t\\t\\t\\r\\n\\t\\t\\t\\t\\t\\t\\t\\t\\t\\t\\t\\t\\r\\n\\t\\t\\t\\t\\t\\t\\t\\t\\t\\t\\t\\t\\t\\t\\r\\n\\t\\t\\t\\t\\t\\t\\t\\t\\t\\t\\t\\t\\t\\t\\t\\r\\n\\t\\t\\t\\t\\t\\t\\t\\t\\t\\t\\t\\r\\n\\t\\t\\t\\t\\t\\t\\t\\t\\t\\t\\r\\n\\t\\t\\t\\t\\t\\t\\t\\t\\t\\t\\t\\t\\t\\t\\t\\t\\t\\t\\t\\t\\t\\t\\t\\t\\t\\t\\r\\n\\t\\t\\t\\t\\t\\t\\t\\t\\t\\t\\t\\t\\t\\t\\t\\t\\t\\t\\t\\t\\t\\t\\t\\t\\t\\t\\t\\t\\t\\t\\r\\n\\t\\t\\t\\t\\t\\t\\t\\t\\t\\t\\t\\t\\t\\t\\t\\t\\t\\t\\t\\t\\t\\t\\t\\t\\t\\t\\t\\t\\t\\t\\t\\t\\r\\n\\t\\t\\t\\t\\t\\t\\t\\t\\t\\t\\t\\t\\t\\t\\t\\t\\t\\r\\n\\t\\t\\t\\t\\t\\t\\t\\t\\t\\t\\t\\t\\t\\t\\t\\t\\t\\t\\t\\r\\n\\t\\t\\t\\t\\t\\t\\t\\t\\t\\t\\t\\t\\t\\t\\t\\t\\t\\t\\t\\t\\r\\n\\t\\t\\t\\t\\t\\t\\t\\t\\t\\t\\t\\t\\t\\t\\t\\t\\t\\t\\t\\t\\t<span><input type=\"button\" name=\"brwBtn\" value=\"대출\" class=\"btn btn_mL btn_blue2\" onClick=\"javascript:contentList.fnContentBorrow(\\'N\\', \\'\\', \\'24073\\', \\'\\', \\'4801162244235\\', \\'001\\', \\'데이터가 뛰어노는 AI 놀이터, 캐글\\',\\'1\\', \\'KB\\',\\'1\\', \\'\\', event);\"/></span> \\t\\t\\t\\t\\t\\t\\t\\t\\t\\t\\t\\t\\t\\t\\t\\t\\t\\t\\t\\t\\r\\n\\t\\t\\t\\t\\t\\t\\t\\t\\t\\t\\t\\t\\t\\t\\t\\t\\t\\t\\t\\t\\t\\t\\t\\t\\t\\t\\t\\t\\t\\t\\t\\t\\t\\t\\t\\t\\t\\t\\r\\n\\t\\t\\t\\t\\t\\t\\t\\t\\t\\t\\t\\t\\t\\t\\t\\t\\t\\t\\r\\n\\t\\t\\t\\t\\t\\t\\t\\t\\t\\t\\t\\t\\t\\t\\t\\t\\r\\n\\t\\t\\t\\t\\t\\t\\t\\t\\t\\t\\t\\t\\t\\t\\r\\n\\t\\t\\t\\t\\t\\t\\t\\t\\t\\t\\t\\t\\t\\t\\t\\t\\t\\t\\t\\t\\t\\t\\t\\t\\t\\r\\n\\t\\t\\t\\t\\t\\t\\t\\t\\t\\t\\t\\r\\n\\t\\t\\t\\t\\t\\t\\t\\t\\t\\t<!-- 찜하기 -->\\r\\n\\t\\t\\t\\t\\t\\t\\t\\t\\t\\t\\r\\n\\t\\t\\t\\t\\t\\t\\t\\t\\t\\t\\t\\t<span><input type=\"button\" name=\"dibsBtn\" value=\"찜\" class=\"btn btn_mL btn_sel\" onClick=\"javascript:contentList.fnDibs(this, \\'4801162244235\\',\\'N\\');\"/></span>\\t\\t\\t\\t\\t\\t\\t\\t\\t\\t\\t\\r\\n\\t\\t\\t\\t\\t\\t\\t\\t\\t\\t\\t\\t\\t\\r\\n\\t\\t\\t\\t\\t\\t\\t\\t\\t</div>\\r\\n\\t\\t\\t\\t\\t\\t\\t\\t</li>\\t\\t\\t\\t\\t\\t\\t\\t\\r\\n\\t\\t\\t\\t\\t\\t\\t\\t\\t\\t\\t\\t\\t\\t\\t\\t\\t\\t\\t\\t\\t\\t\\r\\n\\t\\t\\t\\t\\t\\t\\t\\t<li>\\t\\t\\t\\t\\t\\t\\t\\t\\t\\r\\n\\t\\t\\t\\t\\t\\t\\t\\t\\t<div class=\"img\">\\r\\n\\t\\t\\t\\t\\t\\t\\t\\t\\t\\t\\t\\t\\t\\t\\t\\t\\t\\t\\r\\n\\t\\t\\t\\t\\t\\t\\t\\t\\t\\t<a href=\"/content/contentView.ink\" title=\"SAP ERP 실시간 재고 관리를 위한 백로그 개선 프로젝트 | 현대오토에버\" class=\"scale\" onclick=\"javascript:contentList.fnContentClick(this, \\'001\\', \\'4801166788278\\', \\'2403\\', \\'\\', \\'N\\', \\'1\\'); event.preventDefault();\">\\r\\n\\t\\t\\t\\t\\t\\t\\t\\t\\t\\t<img src=\"//dcontent.dkyobobook.co.kr/library/001/DRMContent/fed5/ebook/278/4801166788278/L4801166788278.jpg\" alt=\"SAP ERP 실시간 재고 관리를 위한 백로그 개선 프로젝트\" />\\r\\n\\t\\t\\t\\t\\t\\t\\t\\t\\t\\t</a>\\r\\n\\t\\t\\t\\t\\t\\t\\t\\t\\t\\t<p><a href=\"#\" class=\"btn btn_s btn_line\" onClick=\"javascript:contentList.fnContentPreview(\\'N\\',\\'001\\', \\'2403\\' ,\\'4801166788278\\',\\'1\\', \\'\\'); event.preventDefault();\" target=\"_blank\" title=\"새 창으로 열림\">미리보기</a></p>\\t\\r\\n\\t\\t\\t\\t\\t\\t\\t\\t\\t\\t\\t\\t\\t\\t\\t\\t\\t\\t\\t\\t\\r\\n\\t\\t\\t\\t\\t\\t\\t\\t\\t</div>\\r\\n\\r\\n\\t\\t\\t\\t\\t\\t\\t\\t\\t<div>\\r\\n\\t\\t\\t\\t\\t\\t\\t\\t\\t\\t<p>\\r\\n\\t\\t\\t\\t\\t\\t\\t\\t\\t\\t\\t\\r\\n\\t\\t\\t\\t\\t\\t\\t\\t\\t\\t\\t\\t\\r\\n\\t\\t\\t\\t\\t\\t\\t\\t\\t\\t\\t\\t<span class=\"store\">교보문고</span>\\r\\n\\t\\t\\t\\t\\t\\t\\t\\t\\t\\t\\t\\t\\r\\n\\t\\t\\t\\t\\t\\t\\t\\t\\t\\t\\t\\r\\n\\t\\t\\t\\t\\t\\t\\t\\t\\t\\t\\t\\r\\n\\t\\t\\t\\t\\t\\t\\t\\t\\t\\t</p>\\r\\n\\t\\t\\t\\t\\t\\t\\t\\t\\t\\t\\r\\n\\t\\t\\t\\t\\t\\t\\t\\t\\t\\t\\t<ul>\\r\\n\\t\\t\\t\\t\\t\\t\\t\\t\\t\\t\\t\\t<li class=\"tit\"><a href=\"/content/contentView.ink\" title=\"SAP ERP 실시간 재고 관리를 위한 백로그 개선 프로젝트 | 현대오토에버\" onClick=\"javascript:contentList.fnContentClick(this, \\'001\\', \\'4801166788278\\', \\'2403\\', \\'\\', \\'N\\'); event.preventDefault();\">SAP ERP 실시간 재고 관리를 위한 백로그 개선 프로젝트</a></li>\\r\\n\\t\\t\\t\\t\\t\\t\\t\\t\\t\\t\\t\\t<li class=\"writer\">이후<span>유페이퍼</span>2021-05-09</li>\\r\\n\\t\\t\\t\\t\\t\\t\\t\\t\\t\\t\\t\\t<li class=\"txt\">\\n\\n 실시간으로 재고를 관리한다는 것은 쉽지 않은 일입니다. \\n 전산재고와 실물재고의 차이가 발생하면, 부품의 발주를 위해서 재고의 재점검이 필요하며, 작업지시서 품목의 재고 수량, 생산계획 수립 시 기초재고와 기말재고의 신뢰도 저하 등 위험 요인이 발생합니다. \\n 이러한 불필요한 시간 낭비는 결국 기업의 생산적이지 못한 활동을 보여주고 있으며, 프로세스가 효율적이지 못하기에 개선이 필요합니다.\\n 이 책은 SAP ERP를 사용하는 기업에서 실시간 재고 관리를 위한 목적으로 백로그를 개선하는 방법에 대하여 기술하였습니다. 이 프로젝트를 이해하여 기업의 재고 신뢰도를 확보하여 시스템의 최적화를 달성할 수 있는 백로그 개선 방향에 대하여 함께 고민해보는 시간을 갖기를 바랍니다.\\njavascript:__doPostBack(ctl03,)</li>\\r\\n\\t\\t\\t\\t\\t\\t\\t\\t\\t\\t\\t</ul>\\r\\n\\t\\t\\t\\t\\t\\t\\t\\t\\t\\t\\t\\r\\n\\t\\t\\t\\t\\t\\t\\t\\t\\t\\t\\t\\t\\t\\r\\n\\t\\t\\t\\t\\t\\t\\t\\t\\t\\t\\t\\t\\t\\t\\t\\r\\n\\t\\t\\t\\t\\t\\t\\t\\t\\t\\t\\t\\t\\t\\t\\r\\n\\t\\t\\t\\t\\t\\t\\t\\t\\t\\t\\t\\t\\r\\n\\t\\t\\t\\t\\t\\t\\t\\t\\t\\t\\t\\r\\n\\t\\t\\t\\t\\t\\t\\t\\t\\t</div>\\r\\n\\t\\t\\t\\t\\t\\t\\t\\t\\t<div class=\"btn_area\">\\r\\n\\t\\t\\t\\t\\t\\t\\t\\t\\t\\t\\r\\n\\t\\t\\t\\t\\t\\t\\t\\t\\t\\t\\t\\t\\r\\n\\t\\t\\t\\t\\t\\t\\t\\t\\t\\t\\t\\t\\t\\t\\r\\n\\t\\t\\t\\t\\t\\t\\t\\t\\t\\t\\t\\t\\t\\t\\t\\r\\n\\t\\t\\t\\t\\t\\t\\t\\t\\t\\t\\t\\r\\n\\t\\t\\t\\t\\t\\t\\t\\t\\t\\t\\r\\n\\t\\t\\t\\t\\t\\t\\t\\t\\t\\t\\t\\t\\t\\t\\t\\t\\t\\t\\t\\t\\t\\t\\t\\t\\t\\t\\r\\n\\t\\t\\t\\t\\t\\t\\t\\t\\t\\t\\t\\t\\t\\t\\t\\t\\t\\t\\t\\t\\t\\t\\t\\t\\t\\t\\t\\t\\t\\t\\r\\n\\t\\t\\t\\t\\t\\t\\t\\t\\t\\t\\t\\t\\t\\t\\t\\t\\t\\t\\t\\t\\t\\t\\t\\t\\t\\t\\t\\t\\t\\t\\t\\t\\r\\n\\t\\t\\t\\t\\t\\t\\t\\t\\t\\t\\t\\t\\t\\t\\t\\t\\t\\r\\n\\t\\t\\t\\t\\t\\t\\t\\t\\t\\t\\t\\t\\t\\t\\t\\t\\t\\t\\t\\r\\n\\t\\t\\t\\t\\t\\t\\t\\t\\t\\t\\t\\t\\t\\t\\t\\t\\t\\t\\t\\t\\r\\n\\t\\t\\t\\t\\t\\t\\t\\t\\t\\t\\t\\t\\t\\t\\t\\t\\t\\t\\t\\t\\t<span><input type=\"button\" name=\"brwBtn\" value=\"대출\" class=\"btn btn_mL btn_blue2\" onClick=\"javascript:contentList.fnContentBorrow(\\'N\\', \\'\\', \\'24073\\', \\'\\', \\'4801166788278\\', \\'001\\', \\'SAP ERP 실시간 재고 관리를 위한 백로그 개선 프로젝트\\',\\'1\\', \\'KB\\',\\'1\\', \\'\\', event);\"/></span> \\t\\t\\t\\t\\t\\t\\t\\t\\t\\t\\t\\t\\t\\t\\t\\t\\t\\t\\t\\t\\r\\n\\t\\t\\t\\t\\t\\t\\t\\t\\t\\t\\t\\t\\t\\t\\t\\t\\t\\t\\t\\t\\t\\t\\t\\t\\t\\t\\t\\t\\t\\t\\t\\t\\t\\t\\t\\t\\t\\t\\r\\n\\t\\t\\t\\t\\t\\t\\t\\t\\t\\t\\t\\t\\t\\t\\t\\t\\t\\t\\r\\n\\t\\t\\t\\t\\t\\t\\t\\t\\t\\t\\t\\t\\t\\t\\t\\t\\r\\n\\t\\t\\t\\t\\t\\t\\t\\t\\t\\t\\t\\t\\t\\t\\r\\n\\t\\t\\t\\t\\t\\t\\t\\t\\t\\t\\t\\t\\t\\t\\t\\t\\t\\t\\t\\t\\t\\t\\t\\t\\t\\r\\n\\t\\t\\t\\t\\t\\t\\t\\t\\t\\t\\t\\r\\n\\t\\t\\t\\t\\t\\t\\t\\t\\t\\t<!-- 찜하기 -->\\r\\n\\t\\t\\t\\t\\t\\t\\t\\t\\t\\t\\r\\n\\t\\t\\t\\t\\t\\t\\t\\t\\t\\t\\t\\t<span><input type=\"button\" name=\"dibsBtn\" value=\"찜\" class=\"btn btn_mL btn_sel\" onClick=\"javascript:contentList.fnDibs(this, \\'4801166788278\\',\\'N\\');\"/></span>\\t\\t\\t\\t\\t\\t\\t\\t\\t\\t\\t\\r\\n\\t\\t\\t\\t\\t\\t\\t\\t\\t\\t\\t\\t\\t\\r\\n\\t\\t\\t\\t\\t\\t\\t\\t\\t</div>\\r\\n\\t\\t\\t\\t\\t\\t\\t\\t</li>\\t\\t\\t\\t\\t\\t\\t\\t\\r\\n\\t\\t\\t\\t\\t\\t\\t\\t\\r\\n\\t\\t\\t\\t\\t\\t\\t</ul>\\r\\n\\t\\t\\t\\t\\t\\t\\t<!-- paging -->\\r\\n\\t\\t\\t\\t\\t\\t\\t<div id=\"contentList_pageNavi\" class=\"pageNavi\"></div>\\r\\n\\t\\t\\r\\n\\t\\t\\t\\t\\t\\t\\t<!-- // 내용 끝  -->\\r\\n\\t\\t\\t\\t\\t\\t</div>\\r\\n\\t\\t\\t\\t\\t</section><!-- 2019.06.27 -->\\r\\n\\t\\t\\t\\t\\t</form>\\r\\n\\t\\t\\t\\t\\t<!-- //sub_con -->\\r\\n\\t\\t\\t\\t</div>\\t\\t\\r\\n\\t\\t\\t</div>\\r\\n\\t\\t\\t<!-- //con_wrap -->\\r\\n\\t\\t</div> \\r\\n\\t\\t<!--content END -->\\r\\n\\t\\r\\n\\t\\t<!--quick START -->\\r\\n\\t\\t\\r\\n\\r\\n\\r\\n\\r\\n\\r\\n\\r\\n\\r\\n\\r\\n \\r\\n\\r\\n\\r\\n\\r\\n \\r\\n\\r\\n<!-- quick 2020-07-08 -->\\r\\n<aside class=\"quick\">\\r\\n\\t<ul>\\r\\n\\t\\t<li class=\"item01\"><a href=\"#\" title=\"대출현황 | 현대오토에버\" onClick=\"fnLoginCheck(\\'loanStatus\\'); event.preventDefault();\">대출현황</a></li>\\r\\n\\t\\t\\r\\n\\t\\t<li class=\"item02\"><a href=\"#\" title=\"예약현황 | 현대오토에버\" onClick=\"fnLoginCheck(\\'prenStatus\\'); event.preventDefault();\">예약현황</a></li>\\r\\n\\t\\t\\r\\n\\t\\t\\r\\n\\t\\t\\r\\n\\t\\t<li class=\"use_info item03\"><a href=\"#\" title=\"이용안내 | 현대오토에버\">이용안내</a>\\r\\n\\t\\t\\t\\r\\n\\t\\t\\t<ul>\\r\\n\\t\\t\\t\\t\\r\\n\\t\\t\\t\\t<li class=\"in_item01\"><a href=\"/helpDesk/libraryGuide.ink\">전자도서관 안내</a></li>\\r\\n\\t\\t\\t\\t\\r\\n\\t\\t\\t\\t\\r\\n\\t\\t\\t\\t<li class=\"in_item02\"><a href=\"/helpDesk/pcGuide.ink\">PC 이용안내</a></li>\\r\\n\\t\\t\\t\\t\\r\\n\\t\\t\\t\\t\\r\\n\\t\\t\\t\\t<li class=\"in_item03\"><a href=\"/helpDesk/mobileGuide.ink\">모바일 이용안내</a></li>\\r\\n\\t\\t\\t\\t\\r\\n\\t\\t\\t</ul>\\r\\n\\t\\t\\t\\r\\n\\t\\t</li>\\r\\n\\t\\t\\r\\n\\t\\t\\r\\n\\t</ul>\\r\\n\\t<div class=\"arr_btn\">\\r\\n\\t\\t<p><a href=\"#top\" class=\"tab_scroll\">맨 위로 올라가기</a></p>\\r\\n\\t\\t<p><a href=\"#footer\" class=\"tab_scroll\">맨 아래로가기</a></p>\\r\\n\\t</div>\\r\\n</aside>\\r\\n\\r\\n\\t\\t<!--quick END -->\\r\\n\\t\\t\\r\\n\\t\\t<!--footer START -->\\r\\n\\t\\t\\n\\r\\n\\r\\n\\r\\n\\r\\n\\r\\n\\r\\n\\r\\n \\r\\n\\r\\n\\r\\n\\r\\n\\n<!-- foot -->\\n<footer>\\n<div class=\"foot_etc\" id=\"footer\">\\n\\t<h2 class=\"hidden_obj\">하단메뉴</h2>\\n\\t<div>\\n\\t\\t<ul class=\"etc\">\\n\\t\\t\\t<li id=\"mobileViewBtn\" style=\"display:none;\"><a href=\"/mobileView.ink\">모바일버전</a></li>\\n\\t\\t\\t<li><a href=\"/member/memberPrivacy.ink\">이용약관</a></li>\\n\\t\\t\\t<li><a href=\"/member/memberPromis.ink\" style=\"font-weight:bold;\">개인정보처리방침</a></li>\\n\\t\\t\\t<li><a href=\"/member/memberYouthPolicy.ink\">청소년보호정책</a></li>\\n\\t\\t\\t<li><a href=\"/siteMap/siteMap.ink\">사이트맵</a></li>\\n\\t\\t</ul>\\n\\t\\t\\n\\t\\t<div class=\"visitor\" id=\"visit\"></div>\\n\\t\\t\\n\\t\\t\\n\\t</div>\\n</div>\\n\\n<!-- footer_address -->\\t\\n<div class=\"foot_add\">\\n\\t<h2 class=\"hidden_obj\">주소</h2>\\n\\t<div>\\n\\t\\t<address class=\"address\">\\n\\t\\t\\t<p>도서관명 : 현대오토에버 </p>\\n\\t\\t\\t\\n\\t\\t\\t<p>Copyright ⓒ KYOBO BOOK CENTRE. All rights reserved.</p>\\n\\t\\t</address>\\n\\t\\t<div class=\"ban_area\">\\n\\t\\t\\t\\t\\t\\t\\n\\t\\t</div>\\n\\t</div>\\n</div>\\n</footer>\\n\\n<script type=\"text/javascript\">\\n//전자도서관 설치 확인\\n$(window).load(function(){\\n\\tprotocol.elibraryStart();\\n});\\n\\n$(document).ready(function(){\\n\\t\\n\\t\\n\\tvar optionsVisitor = new Object();\\n\\toptionsVisitor.url = \"/visit/visitor.json\";\\n\\toptionsVisitor.loading = false;\\n\\toptionsVisitor.callback = function(resultVisitor,optionsVisitor){\\n\\t\\tif (resultVisitor){\\n\\t\\t\\tsetVisitCallback(resultVisitor);\\n\\t\\t}\\n\\t}\\n\\tform.ajax(optionsVisitor);\\n\\t\\n\\tfunction setVisitCallback(resultVisit){\\n\\t\\tvar target = $(\"#visit\");\\n\\t\\ttarget.empty();\\n\\t\\tvar html = \"\";\\n\\t\\thtml +=\\'<p>오늘방문자 : \\'+ resultVisit.visitCnt.today +\\'</p>\\';\\n\\t\\thtml +=\\'<p>전체방문자 : \\'+ resultVisit.visitCnt.total +\\'</p>\\';\\n\\t\\t\\n\\t\\ttarget.append(html);\\n\\t} \\n\\t\\n\\t\\n\\t\\n\\t\\n\\t\\n\\t\\n\\t//모바일device에서 PC버전 화면을 띄웠으면 다시 모바일로 가기위한버튼 활성화\\n\\tif(gFnIsMobileDevice() || gFnIsTabletDevice()){\\n\\t\\t$(\"#mobileViewBtn\").show();\\t\\n\\t}\\n});\\n</script>\\n\\r\\n\\t\\t<!--footer END -->\\r\\n</div>\\r\\n\\r\\n<!-- //wrap -->\\r\\n</body>\\r\\n\\r\\n</html>'"
      ]
     },
     "metadata": {},
     "execution_count": 36
    }
   ],
   "source": [
    "rd.get(\"1\")"
   ]
  }
 ],
 "metadata": {
  "kernelspec": {
   "name": "python3",
   "display_name": "Python 3.8.8 64-bit ('ProgramData': virtualenv)"
  },
  "language_info": {
   "codemirror_mode": {
    "name": "ipython",
    "version": 3
   },
   "file_extension": ".py",
   "mimetype": "text/x-python",
   "name": "python",
   "nbconvert_exporter": "python",
   "pygments_lexer": "ipython3",
   "version": "3.8.8"
  },
  "interpreter": {
   "hash": "b3ba2566441a7c06988d0923437866b63cedc61552a5af99d1f4fb67d367b25f"
  }
 },
 "nbformat": 4,
 "nbformat_minor": 5
}